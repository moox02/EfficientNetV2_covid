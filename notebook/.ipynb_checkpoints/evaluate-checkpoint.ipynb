{
 "cells": [
  {
   "cell_type": "code",
   "execution_count": null,
   "id": "775bd4f5-3ed0-4574-84fd-fdc259afc499",
   "metadata": {},
   "outputs": [],
   "source": [
    "# Import libraries\n",
    "import numpy as np\n",
    "import pandas as pd\n",
    "import tensorflow as tf\n",
    "import tensorflow_hub as hub"
   ]
  },
  {
   "cell_type": "code",
   "execution_count": null,
   "id": "08e93ec2-bb3f-4a9c-887a-8e4813e0f035",
   "metadata": {},
   "outputs": [],
   "source": [
    "# Parse test images\n",
    "def decode_test(path):\n",
    "    img = tf.io.read_file(path)\n",
    "    img = tf.image.decode_png(img, channels=3)\n",
    "    img = tf.cast(img, tf.float32)\n",
    "    img = tf.image.resize(img, [IMAGE_SIZE, IMAGE_SIZE], antialias=True)/255\n",
    "    return img"
   ]
  },
  {
   "cell_type": "code",
   "execution_count": null,
   "id": "b8f35899-738d-4102-8c8b-939084b9efd1",
   "metadata": {},
   "outputs": [],
   "source": [
    "# Define variable\n",
    "MODEL_HANDLE = \"https://tfhub.dev/google/imagenet/efficientnet_v2_imagenet21k_ft1k_b3/feature_vector/2\"\n",
    "WEIGHT_PATH = \"../model_weight/CL_EffNetv2-B3_weights.h5\"\n",
    "IMAGE_SIZE = 300\n",
    "CLASS_NAMES = ['normal', 'pneumonia', 'COVID-19']"
   ]
  },
  {
   "cell_type": "code",
   "execution_count": null,
   "id": "7a9f05a4-1a4e-44a7-9387-35c48e55b1c4",
   "metadata": {},
   "outputs": [],
   "source": [
    "# Build model and load the weight\n",
    "feature_extractor_layer = hub.KerasLayer(MODEL_HANDLE, input_shape=(IMAGE_SIZE, IMAGE_SIZE, 3), trainable=False)\n",
    "model = tf.keras.Sequential([\n",
    "    feature_extractor_layer,\n",
    "    tf.keras.layers.Dropout(rate=0.2),\n",
    "    tf.keras.layers.Dense(len(CLASS_NAMES), activation='softmax')\n",
    "])   \n",
    "model.load_weights(WEIGHT_PATH)\n",
    "model.summary()"
   ]
  },
  {
   "cell_type": "code",
   "execution_count": null,
   "id": "f799f72a-8ccf-48a2-a1e2-b2996ce1d5e1",
   "metadata": {},
   "outputs": [],
   "source": [
    "# Load test dataset\n",
    "tests_df = pd.read_csv('../dataset/test.csv')\n",
    "tests_df['path'] = '../dataset/clahe/test/'+ tests_df.label + '/' + tests_df.filename\n",
    "\n",
    "test_ds = tf.data.Dataset.from_tensor_slices(tests_df.path) \n",
    "test_ds = test_ds.map(decode_test,num_parallel_calls=AUTOTUNE).batch(len(tests_df))\n",
    "\n",
    "test_index = np.argmax(tests_df[CLASS_NAMES].values, axis=1)\n",
    "test_label = tests_df.label.values\n",
    "\n",
    "# Make prediction\n",
    "test_pred = model.predict(test_ds)\n",
    "pred_index = np.argmax(test_pred, axis=1)\n",
    "pred_label = np.array(CLASS_NAMES)[pred_index]\n",
    "\n",
    "# Create classification report\n",
    "print(classification_report(test_index, pred_index, target_names=CLASS_NAMES, zero_division=0, digits=4))\n",
    "print('f1_score        :', f1_score(test_index, pred_index, average='micro'))\n",
    "print('accuracy_score  :', accuracy_score(test_index, pred_index))\n",
    "\n",
    "# Plot the confusion matrix and ROC curve\n",
    "cm = skplt.metrics.plot_confusion_matrix(test_label, pred_label, figsize=(8, 8), normalize=False)\n",
    "roc = skplt.metrics.plot_roc(test_index, test_pred, figsize=(10,8))"
   ]
  }
 ],
 "metadata": {
  "kernelspec": {
   "display_name": "Python 3 (ipykernel)",
   "language": "python",
   "name": "python3"
  },
  "language_info": {
   "codemirror_mode": {
    "name": "ipython",
    "version": 3
   },
   "file_extension": ".py",
   "mimetype": "text/x-python",
   "name": "python",
   "nbconvert_exporter": "python",
   "pygments_lexer": "ipython3",
   "version": "3.9.0"
  }
 },
 "nbformat": 4,
 "nbformat_minor": 5
}
